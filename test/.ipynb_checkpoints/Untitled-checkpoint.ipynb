{
 "cells": [
  {
   "cell_type": "code",
   "execution_count": 20,
   "id": "ff846145",
   "metadata": {},
   "outputs": [
    {
     "ename": "TypeError",
     "evalue": "'_csv.writer' object is not callable",
     "output_type": "error",
     "traceback": [
      "\u001b[1;31m---------------------------------------------------------------------------\u001b[0m",
      "\u001b[1;31mTypeError\u001b[0m                                 Traceback (most recent call last)",
      "Input \u001b[1;32mIn [20]\u001b[0m, in \u001b[0;36m<cell line: 8>\u001b[1;34m()\u001b[0m\n\u001b[0;32m     48\u001b[0m filename \u001b[38;5;241m=\u001b[39m filename \u001b[38;5;241m+\u001b[39m \u001b[38;5;124m'\u001b[39m\u001b[38;5;124m_置換済み.csv\u001b[39m\u001b[38;5;124m'\u001b[39m\n\u001b[0;32m     50\u001b[0m \u001b[38;5;28;01mwith\u001b[39;00m \u001b[38;5;28mopen\u001b[39m(filename, \u001b[38;5;124m\"\u001b[39m\u001b[38;5;124mw\u001b[39m\u001b[38;5;124m\"\u001b[39m, newline\u001b[38;5;241m=\u001b[39m\u001b[38;5;124m\"\u001b[39m\u001b[38;5;124m\"\u001b[39m, encoding\u001b[38;5;241m=\u001b[39m\u001b[38;5;124m'\u001b[39m\u001b[38;5;124mutf_8\u001b[39m\u001b[38;5;124m'\u001b[39m) \u001b[38;5;28;01mas\u001b[39;00m f:\n\u001b[1;32m---> 51\u001b[0m     writer \u001b[38;5;241m=\u001b[39m \u001b[43mwriter\u001b[49m\u001b[43m(\u001b[49m\u001b[43mf\u001b[49m\u001b[43m,\u001b[49m\u001b[43m \u001b[49m\u001b[43mlineterminator\u001b[49m\u001b[38;5;241;43m=\u001b[39;49m\u001b[38;5;124;43m'\u001b[39;49m\u001b[38;5;130;43;01m\\n\u001b[39;49;00m\u001b[38;5;124;43m'\u001b[39;49m\u001b[43m)\u001b[49m\n\u001b[0;32m     52\u001b[0m     writer\u001b[38;5;241m.\u001b[39mwriterows(ans_data)\n\u001b[0;32m     53\u001b[0m     f\u001b[38;5;241m.\u001b[39mclose()\n",
      "\u001b[1;31mTypeError\u001b[0m: '_csv.writer' object is not callable"
     ]
    }
   ],
   "source": [
    "from csv import reader,writer\n",
    "from numpy import char\n",
    "from glob import glob\n",
    "import chardet\n",
    "\n",
    "list_path = glob('./*.csv')\n",
    "\n",
    "for path in list_path:\n",
    "    \n",
    "    with open(path, 'rb') as f:\n",
    "        c = f.read()\n",
    "        result = chardet.detect(c)\n",
    "        f.close()\n",
    "\n",
    "    if result['encoding'] == 'CP932':\n",
    "        \n",
    "        with open(path, mode='r', newline='', encoding='CP932') as f:\n",
    "            csv_reader = reader(f)\n",
    "            read_data = [row for row in csv_reader]\n",
    "            f.close()\n",
    "\n",
    "        ans_data = read_data\n",
    "        ans_data = char.replace(ans_data, \"\\r\\n\", \"、\")\n",
    "        ans_data = char.replace(ans_data, \"\\n\", \"、\")\n",
    "        ans_data = char.replace(ans_data, \",\", \"、\")\n",
    "        \n",
    "        filename = path.replace('.csv','')\n",
    "        filename = filename + '_置換済み.csv'\n",
    "\n",
    "        with open(filename, \"w\", newline=\"\") as f:\n",
    "            writer1 = writer(f, lineterminator='\\n')\n",
    "            writer1.writerows(ans_data)\n",
    "            f.close()\n",
    "    \n",
    "    if result['encoding'] == 'utf-8':\n",
    "\n",
    "        with open(path, mode='r', newline='', encoding='utf_8') as f:\n",
    "            csv_reader = reader(f)\n",
    "            read_data = [row for row in csv_reader]\n",
    "            f.close()\n",
    "\n",
    "        ans_data = read_data\n",
    "        ans_data = char.replace(ans_data, \"\\r\\n\", \"、\")\n",
    "        ans_data = char.replace(ans_data, \"\\n\", \"、\")\n",
    "        ans_data = char.replace(ans_data, \",\", \"/\")\n",
    "\n",
    "        filename = path.replace('.csv','')\n",
    "        filename = filename + '_置換済み.csv'\n",
    "\n",
    "        with open(filename, \"w\", newline=\"\", encoding='utf_8') as f:\n",
    "            writer2 = writer(f, lineterminator='\\n')\n",
    "            writer2.writerows(ans_data)\n",
    "            f.close()\n"
   ]
  }
 ],
 "metadata": {
  "kernelspec": {
   "display_name": "Python 3 (ipykernel)",
   "language": "python",
   "name": "python3"
  },
  "language_info": {
   "codemirror_mode": {
    "name": "ipython",
    "version": 3
   },
   "file_extension": ".py",
   "mimetype": "text/x-python",
   "name": "python",
   "nbconvert_exporter": "python",
   "pygments_lexer": "ipython3",
   "version": "3.10.4"
  }
 },
 "nbformat": 4,
 "nbformat_minor": 5
}
